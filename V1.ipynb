{
 "cells": [
  {
   "cell_type": "code",
   "execution_count": 1,
   "metadata": {},
   "outputs": [],
   "source": [
    "import pandas as pd\n",
    "import numpy as np\n",
    "import ta\n",
    "pd.set_option('display.max_columns', 1000)"
   ]
  },
  {
   "cell_type": "code",
   "execution_count": 7,
   "metadata": {},
   "outputs": [
    {
     "data": {
      "text/html": [
       "<div>\n",
       "<style scoped>\n",
       "    .dataframe tbody tr th:only-of-type {\n",
       "        vertical-align: middle;\n",
       "    }\n",
       "\n",
       "    .dataframe tbody tr th {\n",
       "        vertical-align: top;\n",
       "    }\n",
       "\n",
       "    .dataframe thead th {\n",
       "        text-align: right;\n",
       "    }\n",
       "</style>\n",
       "<table border=\"1\" class=\"dataframe\">\n",
       "  <thead>\n",
       "    <tr style=\"text-align: right;\">\n",
       "      <th></th>\n",
       "      <th>time_local</th>\n",
       "      <th>start_time_local</th>\n",
       "      <th>end_time_local</th>\n",
       "      <th>bid_open</th>\n",
       "      <th>bid_high</th>\n",
       "      <th>bid_low</th>\n",
       "      <th>bid_close</th>\n",
       "      <th>PC2_AUD_H4</th>\n",
       "      <th>PC7_AUD_H4</th>\n",
       "      <th>PC14_AUD_H4</th>\n",
       "      <th>PC20_AUD_H4</th>\n",
       "      <th>PC50_AUD_H4</th>\n",
       "      <th>STDEV_AUD_H4_1p</th>\n",
       "      <th>STDEV_AUD_H4_2p</th>\n",
       "      <th>STDEV_AUD_H4_4p</th>\n",
       "      <th>STDEV_AUD_H4_7p</th>\n",
       "      <th>STDEV_AUD_H4_10p</th>\n",
       "      <th>STDEV_AUD_H4_14p</th>\n",
       "      <th>STDEV_AUD_H4_20p</th>\n",
       "      <th>CS_AUD_CAD_H4_7</th>\n",
       "      <th>correl_AUD_CAD_7p</th>\n",
       "      <th>CS_AUD_CAD_H4_10</th>\n",
       "      <th>correl_AUD_CAD_10p</th>\n",
       "      <th>CS_AUD_CAD_H4_20</th>\n",
       "      <th>correl_AUD_CAD_20p</th>\n",
       "      <th>CS_AUD_CHF_H4_7</th>\n",
       "      <th>correl_AUD_CHF_7p</th>\n",
       "      <th>CS_AUD_CHF_H4_10</th>\n",
       "      <th>correl_AUD_CHF_10p</th>\n",
       "      <th>CS_AUD_CHF_H4_20</th>\n",
       "      <th>correl_AUD_CHF_20p</th>\n",
       "      <th>CS_AUD_GBP_H4_7</th>\n",
       "      <th>correl_AUD_GBP_7p</th>\n",
       "      <th>CS_AUD_GBP_H4_10</th>\n",
       "      <th>correl_AUD_GBP_10p</th>\n",
       "      <th>CS_AUD_GBP_H4_20</th>\n",
       "      <th>correl_AUD_GBP_20p</th>\n",
       "      <th>CS_AUD_JPY_H4_7</th>\n",
       "      <th>correl_AUD_JPY_7p</th>\n",
       "      <th>CS_AUD_JPY_H4_10</th>\n",
       "      <th>correl_AUD_JPY_10p</th>\n",
       "      <th>CS_AUD_JPY_H4_20</th>\n",
       "      <th>correl_AUD_JPY_20p</th>\n",
       "      <th>CS_EUR_AUD_H4_7</th>\n",
       "      <th>correl_EUR_AUD_7p</th>\n",
       "      <th>CS_EUR_AUD_H4_10</th>\n",
       "      <th>correl_EUR_AUD_10p</th>\n",
       "      <th>CS_EUR_AUD_H4_20</th>\n",
       "      <th>correl_EUR_AUD_20p</th>\n",
       "    </tr>\n",
       "  </thead>\n",
       "  <tbody>\n",
       "    <tr>\n",
       "      <th>0</th>\n",
       "      <td>2010-01-05 18:00:00+00:00</td>\n",
       "      <td>2010-01-05 18:00:00</td>\n",
       "      <td>2010-01-05 22:00:00</td>\n",
       "      <td>0.9132</td>\n",
       "      <td>0.9153</td>\n",
       "      <td>0.9110</td>\n",
       "      <td>0.9124</td>\n",
       "      <td>-0.31</td>\n",
       "      <td>0.50</td>\n",
       "      <td>1.72</td>\n",
       "      <td>0.0</td>\n",
       "      <td>0.0</td>\n",
       "      <td>0.0004</td>\n",
       "      <td>0.0012</td>\n",
       "      <td>0.0010</td>\n",
       "      <td>0.0020</td>\n",
       "      <td>0.0065</td>\n",
       "      <td>0.0076</td>\n",
       "      <td>0.0</td>\n",
       "      <td>0.706</td>\n",
       "      <td>-0.540</td>\n",
       "      <td>NaN</td>\n",
       "      <td>NaN</td>\n",
       "      <td>NaN</td>\n",
       "      <td>NaN</td>\n",
       "      <td>0.937</td>\n",
       "      <td>-0.538</td>\n",
       "      <td>NaN</td>\n",
       "      <td>NaN</td>\n",
       "      <td>NaN</td>\n",
       "      <td>NaN</td>\n",
       "      <td>-0.571</td>\n",
       "      <td>-0.495</td>\n",
       "      <td>NaN</td>\n",
       "      <td>NaN</td>\n",
       "      <td>NaN</td>\n",
       "      <td>NaN</td>\n",
       "      <td>-0.423</td>\n",
       "      <td>-0.628</td>\n",
       "      <td>NaN</td>\n",
       "      <td>NaN</td>\n",
       "      <td>NaN</td>\n",
       "      <td>NaN</td>\n",
       "      <td>0.953</td>\n",
       "      <td>0.334</td>\n",
       "      <td>NaN</td>\n",
       "      <td>NaN</td>\n",
       "      <td>NaN</td>\n",
       "      <td>NaN</td>\n",
       "    </tr>\n",
       "    <tr>\n",
       "      <th>1</th>\n",
       "      <td>2010-01-05 22:00:00+00:00</td>\n",
       "      <td>2010-01-05 22:00:00</td>\n",
       "      <td>2010-01-06 02:00:00</td>\n",
       "      <td>0.9123</td>\n",
       "      <td>0.9126</td>\n",
       "      <td>0.9090</td>\n",
       "      <td>0.9117</td>\n",
       "      <td>-0.16</td>\n",
       "      <td>-0.03</td>\n",
       "      <td>1.64</td>\n",
       "      <td>0.0</td>\n",
       "      <td>0.0</td>\n",
       "      <td>0.0004</td>\n",
       "      <td>0.0006</td>\n",
       "      <td>0.0013</td>\n",
       "      <td>0.0011</td>\n",
       "      <td>0.0049</td>\n",
       "      <td>0.0073</td>\n",
       "      <td>0.0</td>\n",
       "      <td>0.848</td>\n",
       "      <td>-0.546</td>\n",
       "      <td>NaN</td>\n",
       "      <td>NaN</td>\n",
       "      <td>NaN</td>\n",
       "      <td>NaN</td>\n",
       "      <td>0.878</td>\n",
       "      <td>-0.657</td>\n",
       "      <td>NaN</td>\n",
       "      <td>NaN</td>\n",
       "      <td>NaN</td>\n",
       "      <td>NaN</td>\n",
       "      <td>-0.735</td>\n",
       "      <td>0.273</td>\n",
       "      <td>NaN</td>\n",
       "      <td>NaN</td>\n",
       "      <td>NaN</td>\n",
       "      <td>NaN</td>\n",
       "      <td>-0.606</td>\n",
       "      <td>-0.307</td>\n",
       "      <td>NaN</td>\n",
       "      <td>NaN</td>\n",
       "      <td>NaN</td>\n",
       "      <td>NaN</td>\n",
       "      <td>0.924</td>\n",
       "      <td>0.744</td>\n",
       "      <td>NaN</td>\n",
       "      <td>NaN</td>\n",
       "      <td>NaN</td>\n",
       "      <td>NaN</td>\n",
       "    </tr>\n",
       "    <tr>\n",
       "      <th>2</th>\n",
       "      <td>2010-01-06 02:00:00+00:00</td>\n",
       "      <td>2010-01-06 02:00:00</td>\n",
       "      <td>2010-01-06 06:00:00</td>\n",
       "      <td>0.9114</td>\n",
       "      <td>0.9138</td>\n",
       "      <td>0.9102</td>\n",
       "      <td>0.9135</td>\n",
       "      <td>0.12</td>\n",
       "      <td>0.13</td>\n",
       "      <td>1.84</td>\n",
       "      <td>0.0</td>\n",
       "      <td>0.0</td>\n",
       "      <td>0.0009</td>\n",
       "      <td>0.0007</td>\n",
       "      <td>0.0012</td>\n",
       "      <td>0.0011</td>\n",
       "      <td>0.0027</td>\n",
       "      <td>0.0070</td>\n",
       "      <td>0.0</td>\n",
       "      <td>0.894</td>\n",
       "      <td>-0.510</td>\n",
       "      <td>NaN</td>\n",
       "      <td>NaN</td>\n",
       "      <td>NaN</td>\n",
       "      <td>NaN</td>\n",
       "      <td>0.849</td>\n",
       "      <td>-0.627</td>\n",
       "      <td>NaN</td>\n",
       "      <td>NaN</td>\n",
       "      <td>NaN</td>\n",
       "      <td>NaN</td>\n",
       "      <td>-0.727</td>\n",
       "      <td>0.409</td>\n",
       "      <td>NaN</td>\n",
       "      <td>NaN</td>\n",
       "      <td>NaN</td>\n",
       "      <td>NaN</td>\n",
       "      <td>-0.469</td>\n",
       "      <td>-0.137</td>\n",
       "      <td>NaN</td>\n",
       "      <td>NaN</td>\n",
       "      <td>NaN</td>\n",
       "      <td>NaN</td>\n",
       "      <td>0.886</td>\n",
       "      <td>0.622</td>\n",
       "      <td>NaN</td>\n",
       "      <td>NaN</td>\n",
       "      <td>NaN</td>\n",
       "      <td>NaN</td>\n",
       "    </tr>\n",
       "    <tr>\n",
       "      <th>3</th>\n",
       "      <td>2010-01-06 06:00:00+00:00</td>\n",
       "      <td>2010-01-06 06:00:00</td>\n",
       "      <td>2010-01-06 10:00:00</td>\n",
       "      <td>0.9134</td>\n",
       "      <td>0.9143</td>\n",
       "      <td>0.9123</td>\n",
       "      <td>0.9142</td>\n",
       "      <td>0.27</td>\n",
       "      <td>0.14</td>\n",
       "      <td>1.76</td>\n",
       "      <td>0.0</td>\n",
       "      <td>0.0</td>\n",
       "      <td>0.0004</td>\n",
       "      <td>0.0011</td>\n",
       "      <td>0.0009</td>\n",
       "      <td>0.0011</td>\n",
       "      <td>0.0018</td>\n",
       "      <td>0.0065</td>\n",
       "      <td>0.0</td>\n",
       "      <td>0.915</td>\n",
       "      <td>-0.466</td>\n",
       "      <td>NaN</td>\n",
       "      <td>NaN</td>\n",
       "      <td>NaN</td>\n",
       "      <td>NaN</td>\n",
       "      <td>0.787</td>\n",
       "      <td>-0.433</td>\n",
       "      <td>NaN</td>\n",
       "      <td>NaN</td>\n",
       "      <td>NaN</td>\n",
       "      <td>NaN</td>\n",
       "      <td>-0.719</td>\n",
       "      <td>0.337</td>\n",
       "      <td>NaN</td>\n",
       "      <td>NaN</td>\n",
       "      <td>NaN</td>\n",
       "      <td>NaN</td>\n",
       "      <td>0.014</td>\n",
       "      <td>0.248</td>\n",
       "      <td>NaN</td>\n",
       "      <td>NaN</td>\n",
       "      <td>NaN</td>\n",
       "      <td>NaN</td>\n",
       "      <td>0.813</td>\n",
       "      <td>0.419</td>\n",
       "      <td>NaN</td>\n",
       "      <td>NaN</td>\n",
       "      <td>NaN</td>\n",
       "      <td>NaN</td>\n",
       "    </tr>\n",
       "    <tr>\n",
       "      <th>4</th>\n",
       "      <td>2010-01-06 10:00:00+00:00</td>\n",
       "      <td>2010-01-06 10:00:00</td>\n",
       "      <td>2010-01-06 14:00:00</td>\n",
       "      <td>0.9140</td>\n",
       "      <td>0.9151</td>\n",
       "      <td>0.9097</td>\n",
       "      <td>0.9142</td>\n",
       "      <td>0.08</td>\n",
       "      <td>-0.01</td>\n",
       "      <td>2.13</td>\n",
       "      <td>0.0</td>\n",
       "      <td>0.0</td>\n",
       "      <td>0.0000</td>\n",
       "      <td>0.0003</td>\n",
       "      <td>0.0010</td>\n",
       "      <td>0.0011</td>\n",
       "      <td>0.0011</td>\n",
       "      <td>0.0059</td>\n",
       "      <td>0.0</td>\n",
       "      <td>0.932</td>\n",
       "      <td>-0.562</td>\n",
       "      <td>NaN</td>\n",
       "      <td>NaN</td>\n",
       "      <td>NaN</td>\n",
       "      <td>NaN</td>\n",
       "      <td>0.690</td>\n",
       "      <td>-0.481</td>\n",
       "      <td>NaN</td>\n",
       "      <td>NaN</td>\n",
       "      <td>NaN</td>\n",
       "      <td>NaN</td>\n",
       "      <td>-0.644</td>\n",
       "      <td>0.421</td>\n",
       "      <td>NaN</td>\n",
       "      <td>NaN</td>\n",
       "      <td>NaN</td>\n",
       "      <td>NaN</td>\n",
       "      <td>0.510</td>\n",
       "      <td>0.545</td>\n",
       "      <td>NaN</td>\n",
       "      <td>NaN</td>\n",
       "      <td>NaN</td>\n",
       "      <td>NaN</td>\n",
       "      <td>0.694</td>\n",
       "      <td>0.405</td>\n",
       "      <td>NaN</td>\n",
       "      <td>NaN</td>\n",
       "      <td>NaN</td>\n",
       "      <td>NaN</td>\n",
       "    </tr>\n",
       "  </tbody>\n",
       "</table>\n",
       "</div>"
      ],
      "text/plain": [
       "                  time_local    start_time_local      end_time_local  \\\n",
       "0  2010-01-05 18:00:00+00:00 2010-01-05 18:00:00 2010-01-05 22:00:00   \n",
       "1  2010-01-05 22:00:00+00:00 2010-01-05 22:00:00 2010-01-06 02:00:00   \n",
       "2  2010-01-06 02:00:00+00:00 2010-01-06 02:00:00 2010-01-06 06:00:00   \n",
       "3  2010-01-06 06:00:00+00:00 2010-01-06 06:00:00 2010-01-06 10:00:00   \n",
       "4  2010-01-06 10:00:00+00:00 2010-01-06 10:00:00 2010-01-06 14:00:00   \n",
       "\n",
       "   bid_open  bid_high  bid_low  bid_close  PC2_AUD_H4  PC7_AUD_H4  \\\n",
       "0    0.9132    0.9153   0.9110     0.9124       -0.31        0.50   \n",
       "1    0.9123    0.9126   0.9090     0.9117       -0.16       -0.03   \n",
       "2    0.9114    0.9138   0.9102     0.9135        0.12        0.13   \n",
       "3    0.9134    0.9143   0.9123     0.9142        0.27        0.14   \n",
       "4    0.9140    0.9151   0.9097     0.9142        0.08       -0.01   \n",
       "\n",
       "   PC14_AUD_H4  PC20_AUD_H4  PC50_AUD_H4  STDEV_AUD_H4_1p  STDEV_AUD_H4_2p  \\\n",
       "0         1.72          0.0          0.0           0.0004           0.0012   \n",
       "1         1.64          0.0          0.0           0.0004           0.0006   \n",
       "2         1.84          0.0          0.0           0.0009           0.0007   \n",
       "3         1.76          0.0          0.0           0.0004           0.0011   \n",
       "4         2.13          0.0          0.0           0.0000           0.0003   \n",
       "\n",
       "   STDEV_AUD_H4_4p  STDEV_AUD_H4_7p  STDEV_AUD_H4_10p  STDEV_AUD_H4_14p  \\\n",
       "0           0.0010           0.0020            0.0065            0.0076   \n",
       "1           0.0013           0.0011            0.0049            0.0073   \n",
       "2           0.0012           0.0011            0.0027            0.0070   \n",
       "3           0.0009           0.0011            0.0018            0.0065   \n",
       "4           0.0010           0.0011            0.0011            0.0059   \n",
       "\n",
       "   STDEV_AUD_H4_20p  CS_AUD_CAD_H4_7  correl_AUD_CAD_7p  CS_AUD_CAD_H4_10  \\\n",
       "0               0.0            0.706             -0.540               NaN   \n",
       "1               0.0            0.848             -0.546               NaN   \n",
       "2               0.0            0.894             -0.510               NaN   \n",
       "3               0.0            0.915             -0.466               NaN   \n",
       "4               0.0            0.932             -0.562               NaN   \n",
       "\n",
       "   correl_AUD_CAD_10p  CS_AUD_CAD_H4_20  correl_AUD_CAD_20p  CS_AUD_CHF_H4_7  \\\n",
       "0                 NaN               NaN                 NaN            0.937   \n",
       "1                 NaN               NaN                 NaN            0.878   \n",
       "2                 NaN               NaN                 NaN            0.849   \n",
       "3                 NaN               NaN                 NaN            0.787   \n",
       "4                 NaN               NaN                 NaN            0.690   \n",
       "\n",
       "   correl_AUD_CHF_7p  CS_AUD_CHF_H4_10  correl_AUD_CHF_10p  CS_AUD_CHF_H4_20  \\\n",
       "0             -0.538               NaN                 NaN               NaN   \n",
       "1             -0.657               NaN                 NaN               NaN   \n",
       "2             -0.627               NaN                 NaN               NaN   \n",
       "3             -0.433               NaN                 NaN               NaN   \n",
       "4             -0.481               NaN                 NaN               NaN   \n",
       "\n",
       "   correl_AUD_CHF_20p  CS_AUD_GBP_H4_7  correl_AUD_GBP_7p  CS_AUD_GBP_H4_10  \\\n",
       "0                 NaN           -0.571             -0.495               NaN   \n",
       "1                 NaN           -0.735              0.273               NaN   \n",
       "2                 NaN           -0.727              0.409               NaN   \n",
       "3                 NaN           -0.719              0.337               NaN   \n",
       "4                 NaN           -0.644              0.421               NaN   \n",
       "\n",
       "   correl_AUD_GBP_10p  CS_AUD_GBP_H4_20  correl_AUD_GBP_20p  CS_AUD_JPY_H4_7  \\\n",
       "0                 NaN               NaN                 NaN           -0.423   \n",
       "1                 NaN               NaN                 NaN           -0.606   \n",
       "2                 NaN               NaN                 NaN           -0.469   \n",
       "3                 NaN               NaN                 NaN            0.014   \n",
       "4                 NaN               NaN                 NaN            0.510   \n",
       "\n",
       "   correl_AUD_JPY_7p  CS_AUD_JPY_H4_10  correl_AUD_JPY_10p  CS_AUD_JPY_H4_20  \\\n",
       "0             -0.628               NaN                 NaN               NaN   \n",
       "1             -0.307               NaN                 NaN               NaN   \n",
       "2             -0.137               NaN                 NaN               NaN   \n",
       "3              0.248               NaN                 NaN               NaN   \n",
       "4              0.545               NaN                 NaN               NaN   \n",
       "\n",
       "   correl_AUD_JPY_20p  CS_EUR_AUD_H4_7  correl_EUR_AUD_7p  CS_EUR_AUD_H4_10  \\\n",
       "0                 NaN            0.953              0.334               NaN   \n",
       "1                 NaN            0.924              0.744               NaN   \n",
       "2                 NaN            0.886              0.622               NaN   \n",
       "3                 NaN            0.813              0.419               NaN   \n",
       "4                 NaN            0.694              0.405               NaN   \n",
       "\n",
       "   correl_EUR_AUD_10p  CS_EUR_AUD_H4_20  correl_EUR_AUD_20p  \n",
       "0                 NaN               NaN                 NaN  \n",
       "1                 NaN               NaN                 NaN  \n",
       "2                 NaN               NaN                 NaN  \n",
       "3                 NaN               NaN                 NaN  \n",
       "4                 NaN               NaN                 NaN  "
      ]
     },
     "execution_count": 7,
     "metadata": {},
     "output_type": "execute_result"
    }
   ],
   "source": [
    "df=pd.read_excel(r\"C:\\Users\\krchakravarthy\\Documents\\Forex_analysis\\AUDUSD H4.xlsx\")\n",
    "df.columns = df.columns.str.replace('.','_')\n",
    "df.head()"
   ]
  },
  {
   "cell_type": "markdown",
   "metadata": {},
   "source": [
    "Average Directional Movement Index (ADX)"
   ]
  },
  {
   "cell_type": "code",
   "execution_count": 8,
   "metadata": {},
   "outputs": [
    {
     "name": "stderr",
     "output_type": "stream",
     "text": [
      "C:\\Users\\krchakravarthy\\AppData\\Local\\Continuum\\anaconda3\\lib\\site-packages\\ta\\trend.py:170: RuntimeWarning: invalid value encountered in double_scalars\n",
      "  dip[i] = 100 * (dip_mio[i]/trs[i])\n",
      "C:\\Users\\krchakravarthy\\AppData\\Local\\Continuum\\anaconda3\\lib\\site-packages\\ta\\trend.py:174: RuntimeWarning: invalid value encountered in double_scalars\n",
      "  din[i] = 100 * (din_mio[i]/trs[i])\n"
     ]
    }
   ],
   "source": [
    "df['adx']=ta.trend.adx(df['bid_high'], df['bid_low'], df['bid_close'], n=4, fillna=False)\n"
   ]
  },
  {
   "cell_type": "markdown",
   "metadata": {},
   "source": [
    "Commodity Channel Index (CCI)"
   ]
  },
  {
   "cell_type": "code",
   "execution_count": 9,
   "metadata": {},
   "outputs": [],
   "source": [
    "df['cci']=ta.trend.cci(df['bid_high'], df['bid_low'], df['bid_close'], n=4, c=0.015, fillna=False)\n"
   ]
  },
  {
   "cell_type": "markdown",
   "metadata": {},
   "source": [
    "Detrended Price Oscillator (DPO)"
   ]
  },
  {
   "cell_type": "code",
   "execution_count": 10,
   "metadata": {},
   "outputs": [],
   "source": [
    "df['dpo']=ta.trend.dpo(df['bid_close'], n=4,fillna=False)"
   ]
  },
  {
   "cell_type": "markdown",
   "metadata": {},
   "source": [
    "Ichimoku Kinkō Hyō (Ichimoku)"
   ]
  },
  {
   "cell_type": "code",
   "execution_count": 11,
   "metadata": {},
   "outputs": [],
   "source": [
    "df['Ichimoku']=ta.trend.ichimoku_a(df['bid_high'], df['bid_low'], n1=4, n2=16, visual=False, fillna=False)\n"
   ]
  },
  {
   "cell_type": "markdown",
   "metadata": {},
   "source": [
    "KST Oscillator (KST)"
   ]
  },
  {
   "cell_type": "code",
   "execution_count": 12,
   "metadata": {},
   "outputs": [],
   "source": [
    "df['kst']=ta.trend.kst(df['bid_close'], r1=4, r2=8, r3=12, r4=16, n1=4, n2=4, n3=4, n4=4, fillna=False)\n"
   ]
  },
  {
   "cell_type": "markdown",
   "metadata": {},
   "source": [
    "Moving Average Convergence Divergence (MACD)"
   ]
  },
  {
   "cell_type": "code",
   "execution_count": 13,
   "metadata": {},
   "outputs": [],
   "source": [
    "df['macd']=ta.trend.macd(df['bid_close'], n_fast=4, n_slow=20, fillna=False)\n"
   ]
  },
  {
   "cell_type": "markdown",
   "metadata": {},
   "source": [
    "Mass Index (MI)"
   ]
  },
  {
   "cell_type": "code",
   "execution_count": 14,
   "metadata": {},
   "outputs": [],
   "source": [
    "df['mi']=ta.trend.mass_index(df['bid_high'], df['bid_low'], n=4, n2=16, fillna=False)\n"
   ]
  },
  {
   "cell_type": "markdown",
   "metadata": {},
   "source": [
    "Trix (TRIX)"
   ]
  },
  {
   "cell_type": "code",
   "execution_count": 15,
   "metadata": {},
   "outputs": [],
   "source": [
    "df['trix']=ta.trend.trix(df['bid_close'], n=4, fillna=False)\n"
   ]
  },
  {
   "cell_type": "markdown",
   "metadata": {},
   "source": [
    "Vortex Indicator (VI)"
   ]
  },
  {
   "cell_type": "code",
   "execution_count": 16,
   "metadata": {},
   "outputs": [],
   "source": [
    "df['vi_neg']=ta.trend.vortex_indicator_neg(df['bid_high'], df['bid_low'], df['bid_close'], n=4, fillna=False)\n",
    "df['vi_pos']=ta.trend.vortex_indicator_pos(df['bid_high'], df['bid_low'], df['bid_close'], n=4, fillna=False)\n"
   ]
  },
  {
   "cell_type": "markdown",
   "metadata": {},
   "source": [
    "# Volality indicators\n"
   ]
  },
  {
   "cell_type": "code",
   "execution_count": 19,
   "metadata": {},
   "outputs": [],
   "source": [
    "df['vol_ATR']=ta.volatility.average_true_range(df['bid_high'], df['bid_low'], df['bid_close'], n=14, fillna=False)\n"
   ]
  },
  {
   "cell_type": "code",
   "execution_count": 20,
   "metadata": {},
   "outputs": [],
   "source": [
    "df['vol_Bollinger_bands']=ta.volatility.bollinger_hband(df['bid_close'], n=20, ndev=2, fillna=False)\n"
   ]
  },
  {
   "cell_type": "code",
   "execution_count": 21,
   "metadata": {},
   "outputs": [],
   "source": [
    "df['vol_Bollinger_hband']=ta.volatility.bollinger_hband_indicator(df['bid_close'], n=20, ndev=2, fillna=False)\n"
   ]
  },
  {
   "cell_type": "code",
   "execution_count": 22,
   "metadata": {},
   "outputs": [],
   "source": [
    "df['vol_bollinger_lband']=ta.volatility.bollinger_lband(df['bid_close'], n=20, ndev=2, fillna=False)\n"
   ]
  },
  {
   "cell_type": "code",
   "execution_count": 23,
   "metadata": {},
   "outputs": [],
   "source": [
    "df['vol_bollinger_lband_indicator']=ta.volatility.bollinger_lband_indicator(df['bid_close'], n=20, ndev=2, fillna=False)\n"
   ]
  },
  {
   "cell_type": "code",
   "execution_count": 24,
   "metadata": {},
   "outputs": [],
   "source": [
    "df['vol_bollinger_mavg']=ta.volatility.bollinger_mavg(df['bid_close'], n=20, fillna=False)\n"
   ]
  },
  {
   "cell_type": "code",
   "execution_count": 25,
   "metadata": {},
   "outputs": [],
   "source": [
    "df['vol_donchian_channel_hband']=ta.volatility.donchian_channel_hband(df['bid_close'], n=20, fillna=False)\n"
   ]
  },
  {
   "cell_type": "code",
   "execution_count": 26,
   "metadata": {},
   "outputs": [],
   "source": [
    "df['vol_donchian_channel_hband_indicator']=ta.volatility.donchian_channel_hband_indicator(df['bid_close'], n=20, fillna=False)\n"
   ]
  },
  {
   "cell_type": "code",
   "execution_count": 27,
   "metadata": {},
   "outputs": [],
   "source": [
    "df['vol_donchian_channel_hband_indicator']=ta.volatility.donchian_channel_lband(df['bid_close'], n=20, fillna=False)\n"
   ]
  },
  {
   "cell_type": "code",
   "execution_count": 28,
   "metadata": {},
   "outputs": [],
   "source": [
    "df['vol_donchian_channel_lband_indicator']=ta.volatility.donchian_channel_lband_indicator(df['bid_close'], n=20, fillna=False)"
   ]
  },
  {
   "cell_type": "code",
   "execution_count": 29,
   "metadata": {},
   "outputs": [],
   "source": [
    "df['vol_keltner_channel_central']=ta.volatility.keltner_channel_central(df['bid_high'], df['bid_low'], df['bid_close'], n=10, fillna=False)\n"
   ]
  },
  {
   "cell_type": "code",
   "execution_count": 30,
   "metadata": {},
   "outputs": [],
   "source": [
    "df['vol_keltner_channel_hband']=ta.volatility.keltner_channel_hband(df['bid_high'], df['bid_low'], df['bid_close'], n=10, fillna=False)\n"
   ]
  },
  {
   "cell_type": "code",
   "execution_count": 31,
   "metadata": {},
   "outputs": [],
   "source": [
    "df['vol_keltner_channel_hband_indicator']=ta.volatility.keltner_channel_hband_indicator(df['bid_high'], df['bid_low'], df['bid_close'], n=10, fillna=False)\n"
   ]
  },
  {
   "cell_type": "code",
   "execution_count": 32,
   "metadata": {},
   "outputs": [],
   "source": [
    "df['vol_keltner_channel_lband']=ta.volatility.keltner_channel_lband(df['bid_high'], df['bid_low'], df['bid_close'], n=10, fillna=False)\n"
   ]
  },
  {
   "cell_type": "code",
   "execution_count": 33,
   "metadata": {},
   "outputs": [],
   "source": [
    "df['vol_keltner_channel_lband_indicator']=ta.volatility.keltner_channel_lband_indicator(df['bid_high'], df['bid_low'], df['bid_close'], n=10, fillna=False)\n"
   ]
  },
  {
   "cell_type": "code",
   "execution_count": null,
   "metadata": {},
   "outputs": [],
   "source": []
  },
  {
   "cell_type": "code",
   "execution_count": null,
   "metadata": {},
   "outputs": [],
   "source": []
  },
  {
   "cell_type": "code",
   "execution_count": null,
   "metadata": {},
   "outputs": [],
   "source": []
  },
  {
   "cell_type": "code",
   "execution_count": null,
   "metadata": {},
   "outputs": [],
   "source": []
  },
  {
   "cell_type": "code",
   "execution_count": null,
   "metadata": {},
   "outputs": [],
   "source": []
  }
 ],
 "metadata": {
  "kernelspec": {
   "display_name": "Python 3",
   "language": "python",
   "name": "python3"
  },
  "language_info": {
   "codemirror_mode": {
    "name": "ipython",
    "version": 3
   },
   "file_extension": ".py",
   "mimetype": "text/x-python",
   "name": "python",
   "nbconvert_exporter": "python",
   "pygments_lexer": "ipython3",
   "version": "3.6.4"
  }
 },
 "nbformat": 4,
 "nbformat_minor": 2
}
